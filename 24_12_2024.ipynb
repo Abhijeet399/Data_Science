{
 "cells": [
  {
   "cell_type": "code",
   "execution_count": 6,
   "id": "f56f09c0",
   "metadata": {},
   "outputs": [
    {
     "name": "stdout",
     "output_type": "stream",
     "text": [
      "* * * * * \n",
      "* * * * * \n",
      "* * * * * \n",
      "* * * * * \n",
      "* * * * * \n"
     ]
    }
   ],
   "source": [
    "n = 5\n",
    "\n",
    "for i in range(n):\n",
    "    for j in range(n):\n",
    "        print('* ', end = '')\n",
    "    print()"
   ]
  },
  {
   "cell_type": "code",
   "execution_count": 7,
   "id": "0998e618",
   "metadata": {},
   "outputs": [
    {
     "name": "stdout",
     "output_type": "stream",
     "text": [
      "* * * * * \n",
      "* * * * \n",
      "* * * \n",
      "* * \n",
      "* \n"
     ]
    }
   ],
   "source": [
    "n = 5\n",
    "\n",
    "for row in range(n, 0, -1):\n",
    "    for stars in range(row):\n",
    "        print('* ', end = '')\n",
    "    print()"
   ]
  },
  {
   "cell_type": "code",
   "execution_count": 8,
   "id": "0c7654d2",
   "metadata": {},
   "outputs": [
    {
     "name": "stdout",
     "output_type": "stream",
     "text": [
      "* * * * * \n",
      "* * * * \n",
      "* * * \n",
      "* * \n",
      "* \n"
     ]
    }
   ],
   "source": [
    "n = 5\n",
    "\n",
    "for row in range(1, 6):\n",
    "    for stars in range(6 - row):\n",
    "        print('* ', end = '')\n",
    "    print()"
   ]
  },
  {
   "cell_type": "code",
   "execution_count": 9,
   "id": "08ddf6f7",
   "metadata": {},
   "outputs": [
    {
     "name": "stdout",
     "output_type": "stream",
     "text": [
      "* * * * * \n",
      "* * * * \n",
      "* * * \n",
      "* * \n",
      "* \n"
     ]
    }
   ],
   "source": [
    "for i in range(n):\n",
    "    for j in range(n - i):\n",
    "        print('* ', end='')\n",
    "    print()"
   ]
  },
  {
   "cell_type": "code",
   "execution_count": 13,
   "id": "f1ef5e3e",
   "metadata": {},
   "outputs": [
    {
     "name": "stdout",
     "output_type": "stream",
     "text": [
      "        * \n",
      "      * * \n",
      "    * * * \n",
      "  * * * * \n",
      "* * * * * \n"
     ]
    }
   ],
   "source": [
    "n = 5\n",
    "\n",
    "for row in range(1, n + 1):\n",
    "    for spaces in range(n - row):\n",
    "        print('  ', end = '')\n",
    "    for stars in range(row):\n",
    "        print('* ', end = '')\n",
    "    print()"
   ]
  },
  {
   "cell_type": "code",
   "execution_count": 16,
   "id": "09d165dc",
   "metadata": {},
   "outputs": [
    {
     "name": "stdout",
     "output_type": "stream",
     "text": [
      "* * * * * \n",
      "*       * \n",
      "*       * \n",
      "*       * \n",
      "* * * * * \n"
     ]
    }
   ],
   "source": [
    "n = 5\n",
    "\n",
    "for row in range(1, n + 1):\n",
    "    for  col in range(1, n + 1):\n",
    "        if (row == 1) or (row == n) or (col == 1) or (col == n):\n",
    "            print('* ', end='')\n",
    "        else:\n",
    "            print('  ', end='')\n",
    "    print()"
   ]
  },
  {
   "cell_type": "code",
   "execution_count": 21,
   "id": "cbc35142",
   "metadata": {},
   "outputs": [
    {
     "name": "stdout",
     "output_type": "stream",
     "text": [
      "* * * * * \n",
      "*       * \n",
      "*       * \n",
      "*       * \n",
      "* * * * * \n"
     ]
    }
   ],
   "source": [
    "n = 5\n",
    "\n",
    "for i in range(1, n + 1):\n",
    "    print(\"* \", end=\"\")\n",
    "    if (i == 1) or (i == n):\n",
    "        for j in range(2, n):\n",
    "            print(\"* \", end=\"\")\n",
    "    else:\n",
    "        for j in range(2, n):\n",
    "            print(\"  \", end = \"\")\n",
    "    print(\"* \", end= \"\")\n",
    "    print()"
   ]
  },
  {
   "cell_type": "code",
   "execution_count": 23,
   "id": "bc37c658",
   "metadata": {},
   "outputs": [
    {
     "name": "stdout",
     "output_type": "stream",
     "text": [
      "*       * \n",
      "  *   *   \n",
      "    *     \n",
      "  *   *   \n",
      "*       * \n"
     ]
    }
   ],
   "source": [
    "n = 5\n",
    "\n",
    "for i in range(1, n + 1):\n",
    "    for j in range(1, n + 1):\n",
    "        if (i == j) or (i + j == n + 1):\n",
    "            print('* ', end='')\n",
    "        else:\n",
    "            print('  ', end = '')\n",
    "    print()"
   ]
  },
  {
   "cell_type": "code",
   "execution_count": 24,
   "id": "5f254d27",
   "metadata": {},
   "outputs": [],
   "source": [
    "# While Loop"
   ]
  },
  {
   "cell_type": "code",
   "execution_count": 36,
   "id": "83446855",
   "metadata": {},
   "outputs": [],
   "source": [
    "var = 5"
   ]
  },
  {
   "cell_type": "code",
   "execution_count": 37,
   "id": "2549b76c",
   "metadata": {},
   "outputs": [
    {
     "name": "stdout",
     "output_type": "stream",
     "text": [
      "Good Morning\n",
      "Good Morning\n",
      "Good Morning\n",
      "Good Morning\n",
      "Good Morning\n"
     ]
    }
   ],
   "source": [
    "while (var > 0):\n",
    "    print('Good Morning')\n",
    "    var = var - 1"
   ]
  },
  {
   "cell_type": "code",
   "execution_count": 38,
   "id": "dcbc466c",
   "metadata": {},
   "outputs": [
    {
     "name": "stdout",
     "output_type": "stream",
     "text": [
      "0\n"
     ]
    }
   ],
   "source": [
    "print(var)"
   ]
  },
  {
   "cell_type": "code",
   "execution_count": 56,
   "id": "32c6c945",
   "metadata": {},
   "outputs": [
    {
     "name": "stdout",
     "output_type": "stream",
     "text": [
      "Not prime\n"
     ]
    }
   ],
   "source": [
    "num = 100\n",
    "\n",
    "def factors(num):\n",
    "    factor = 0\n",
    "    for i in range(2, num):\n",
    "        if num % i == 0:\n",
    "            factor += 1   # factor = factor + 1\n",
    "    return factor + 2\n",
    "\n",
    "if factors(num) == 2:\n",
    "    print('Prime')\n",
    "else:\n",
    "    print('Not prime')"
   ]
  },
  {
   "cell_type": "code",
   "execution_count": 73,
   "id": "1a527f89",
   "metadata": {},
   "outputs": [],
   "source": [
    "num = 33\n",
    "\n",
    "def prime_noprime(num):\n",
    "    for i in range(2, (num//2) + 1):\n",
    "        if (num % i == 0):\n",
    "            return 'Not Prime', i\n",
    "    return 'Prime'"
   ]
  },
  {
   "cell_type": "code",
   "execution_count": 74,
   "id": "a7eace9e",
   "metadata": {},
   "outputs": [
    {
     "data": {
      "text/plain": [
       "'Prime'"
      ]
     },
     "execution_count": 74,
     "metadata": {},
     "output_type": "execute_result"
    }
   ],
   "source": [
    "prime_noprime(101)"
   ]
  },
  {
   "cell_type": "code",
   "execution_count": null,
   "id": "d351250c",
   "metadata": {},
   "outputs": [],
   "source": []
  }
 ],
 "metadata": {
  "kernelspec": {
   "display_name": "Python 3 (ipykernel)",
   "language": "python",
   "name": "python3"
  },
  "language_info": {
   "codemirror_mode": {
    "name": "ipython",
    "version": 3
   },
   "file_extension": ".py",
   "mimetype": "text/x-python",
   "name": "python",
   "nbconvert_exporter": "python",
   "pygments_lexer": "ipython3",
   "version": "3.8.19"
  }
 },
 "nbformat": 4,
 "nbformat_minor": 5
}
