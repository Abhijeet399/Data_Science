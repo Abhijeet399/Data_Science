{
 "cells": [
  {
   "cell_type": "code",
   "execution_count": 5,
   "id": "d879c1e6",
   "metadata": {},
   "outputs": [],
   "source": [
    "num = 101\n",
    "\n",
    "def prime_noprime(num):\n",
    "    for i in range(2, int(num**0.5) + 1):\n",
    "        if (num % i == 0):\n",
    "            return 'Not Prime', i\n",
    "    return 'Prime'"
   ]
  },
  {
   "cell_type": "code",
   "execution_count": 6,
   "id": "59e4102d",
   "metadata": {},
   "outputs": [
    {
     "data": {
      "text/plain": [
       "'Prime'"
      ]
     },
     "execution_count": 6,
     "metadata": {},
     "output_type": "execute_result"
    }
   ],
   "source": [
    "prime_noprime(num)"
   ]
  },
  {
   "cell_type": "code",
   "execution_count": 9,
   "id": "c487be30",
   "metadata": {},
   "outputs": [],
   "source": [
    "def isprime(num):\n",
    "    if num  == 1:\n",
    "        return 'Neither Prime nor Composite'\n",
    "    if num <= 3:\n",
    "        return 'Prime'\n",
    "    if (num % 2 == 0) or (num % 3 == 0):\n",
    "        return 'Not Prime'\n",
    "    \n",
    "    i = 5\n",
    "    while i <= int(num**0.5):\n",
    "        if (num % i == 0) or (num % (i + 2) == 0):\n",
    "            return 'Not Prime'\n",
    "        i += 6\n",
    "    return 'Prime'"
   ]
  },
  {
   "cell_type": "code",
   "execution_count": 11,
   "id": "228b8bce",
   "metadata": {},
   "outputs": [
    {
     "data": {
      "text/plain": [
       "'Prime'"
      ]
     },
     "execution_count": 11,
     "metadata": {},
     "output_type": "execute_result"
    }
   ],
   "source": [
    "isprime(101)"
   ]
  },
  {
   "cell_type": "code",
   "execution_count": 14,
   "id": "ecb343ad",
   "metadata": {},
   "outputs": [],
   "source": [
    "# Break Loop\n",
    "# break\n",
    "# continue"
   ]
  },
  {
   "cell_type": "code",
   "execution_count": 17,
   "id": "8f3cd379",
   "metadata": {},
   "outputs": [
    {
     "name": "stdout",
     "output_type": "stream",
     "text": [
      "Not Prime 2\n"
     ]
    }
   ],
   "source": [
    "num = 100\n",
    "\n",
    "for i in range(2, int(num**0.5) + 1):\n",
    "    if (num % i == 0):\n",
    "        print('Not Prime', i)\n",
    "        break"
   ]
  },
  {
   "cell_type": "code",
   "execution_count": 19,
   "id": "883ad397",
   "metadata": {},
   "outputs": [
    {
     "name": "stdout",
     "output_type": "stream",
     "text": [
      "0 0\n",
      "0 1\n",
      "0 2\n",
      "0 3\n",
      "1 0\n",
      "1 1\n",
      "1 2\n",
      "1 3\n"
     ]
    }
   ],
   "source": [
    "for i in range(2):\n",
    "    for j in range(5):\n",
    "        print(i, j)\n",
    "        if (j == 3):\n",
    "            break"
   ]
  },
  {
   "cell_type": "code",
   "execution_count": 21,
   "id": "6bfedd85",
   "metadata": {},
   "outputs": [
    {
     "name": "stdout",
     "output_type": "stream",
     "text": [
      "0 0\n",
      "0 1\n",
      "0 2\n",
      "0 4\n",
      "1 0\n",
      "1 1\n",
      "1 2\n",
      "1 4\n"
     ]
    }
   ],
   "source": [
    "for i in range(2):\n",
    "    for j in range(5):\n",
    "        if (j == 3):\n",
    "            continue\n",
    "        print(i, j)"
   ]
  },
  {
   "cell_type": "code",
   "execution_count": 23,
   "id": "9ef72b64",
   "metadata": {},
   "outputs": [],
   "source": [
    "# Data Structure\n",
    "# 1. String"
   ]
  },
  {
   "cell_type": "code",
   "execution_count": 24,
   "id": "5bce916f",
   "metadata": {},
   "outputs": [],
   "source": [
    "string = 'Abhijeet'"
   ]
  },
  {
   "cell_type": "code",
   "execution_count": 28,
   "id": "59a35ed0",
   "metadata": {},
   "outputs": [
    {
     "name": "stdout",
     "output_type": "stream",
     "text": [
      "A b h "
     ]
    }
   ],
   "source": [
    "for i in string:\n",
    "    if (i == 'i'):\n",
    "        break\n",
    "    print(i, end=' ')"
   ]
  },
  {
   "cell_type": "code",
   "execution_count": 31,
   "id": "e5d4c5f8",
   "metadata": {},
   "outputs": [
    {
     "name": "stdout",
     "output_type": "stream",
     "text": [
      "Input Your Age10\n"
     ]
    }
   ],
   "source": [
    "age = input('Input Your Age')"
   ]
  },
  {
   "cell_type": "code",
   "execution_count": 32,
   "id": "a4bd1397",
   "metadata": {},
   "outputs": [
    {
     "name": "stdout",
     "output_type": "stream",
     "text": [
      "<class 'str'>\n"
     ]
    }
   ],
   "source": [
    "print(type(age))"
   ]
  },
  {
   "cell_type": "code",
   "execution_count": 35,
   "id": "ad67d9a0",
   "metadata": {},
   "outputs": [
    {
     "name": "stdout",
     "output_type": "stream",
     "text": [
      "Input Your Age10\n",
      "Go Home\n"
     ]
    }
   ],
   "source": [
    "age = int(input('Input Your Age'))\n",
    "if age > 18:\n",
    "    print('Allowed to drink')\n",
    "else:\n",
    "    print('Go Home')"
   ]
  },
  {
   "cell_type": "code",
   "execution_count": 42,
   "id": "75cc6b06",
   "metadata": {},
   "outputs": [
    {
     "data": {
      "text/plain": [
       "10"
      ]
     },
     "execution_count": 42,
     "metadata": {},
     "output_type": "execute_result"
    }
   ],
   "source": [
    "int('10')"
   ]
  },
  {
   "cell_type": "code",
   "execution_count": 45,
   "id": "b7dfd131",
   "metadata": {},
   "outputs": [
    {
     "data": {
      "text/plain": [
       "'A'"
      ]
     },
     "execution_count": 45,
     "metadata": {},
     "output_type": "execute_result"
    }
   ],
   "source": [
    "string[0]"
   ]
  },
  {
   "cell_type": "code",
   "execution_count": 52,
   "id": "5d352db0",
   "metadata": {},
   "outputs": [
    {
     "data": {
      "text/plain": [
       "'A'"
      ]
     },
     "execution_count": 52,
     "metadata": {},
     "output_type": "execute_result"
    }
   ],
   "source": [
    "string[-8]"
   ]
  },
  {
   "cell_type": "code",
   "execution_count": 53,
   "id": "5d555039",
   "metadata": {},
   "outputs": [
    {
     "name": "stdout",
     "output_type": "stream",
     "text": [
      "2\n"
     ]
    }
   ],
   "source": [
    "print(1 + 1)"
   ]
  },
  {
   "cell_type": "code",
   "execution_count": 54,
   "id": "b65da27f",
   "metadata": {},
   "outputs": [
    {
     "name": "stdout",
     "output_type": "stream",
     "text": [
      "Abhijeet Bhattacharya\n"
     ]
    }
   ],
   "source": [
    "print(string + ' Bhattacharya')"
   ]
  },
  {
   "cell_type": "code",
   "execution_count": 55,
   "id": "aad63587",
   "metadata": {},
   "outputs": [
    {
     "name": "stdout",
     "output_type": "stream",
     "text": [
      "AbhijeetAbhijeet\n"
     ]
    }
   ],
   "source": [
    "print(string * 2)"
   ]
  },
  {
   "cell_type": "code",
   "execution_count": 56,
   "id": "497c32b1",
   "metadata": {},
   "outputs": [
    {
     "name": "stdout",
     "output_type": "stream",
     "text": [
      "12\n"
     ]
    }
   ],
   "source": [
    "string = 'The sky is blue'\n",
    "count = 0\n",
    "\n",
    "for i in string:\n",
    "    if (i != ' '):\n",
    "        count += 1\n",
    "print(count)"
   ]
  },
  {
   "cell_type": "code",
   "execution_count": 62,
   "id": "00c72baf",
   "metadata": {},
   "outputs": [
    {
     "name": "stdout",
     "output_type": "stream",
     "text": [
      "eulb si yks ehT"
     ]
    }
   ],
   "source": [
    "string = 'The sky is blue'\n",
    "count = 0\n",
    "\n",
    "for i in string:\n",
    "    count += 1\n",
    "for i in range(count - 1, -1, -1):\n",
    "    print(string[i], end = '')"
   ]
  },
  {
   "cell_type": "code",
   "execution_count": 59,
   "id": "07eb1c86",
   "metadata": {},
   "outputs": [
    {
     "name": "stdout",
     "output_type": "stream",
     "text": [
      "5\n",
      "4\n",
      "3\n",
      "2\n"
     ]
    }
   ],
   "source": [
    "for i in range(5, 1, -1):\n",
    "    print(i)"
   ]
  },
  {
   "cell_type": "code",
   "execution_count": 64,
   "id": "21d76fd4",
   "metadata": {},
   "outputs": [],
   "source": [
    "# blue is sky The"
   ]
  },
  {
   "cell_type": "code",
   "execution_count": 2,
   "id": "cdbd948e",
   "metadata": {},
   "outputs": [],
   "source": [
    "# revStr : ( string, int, int ) -> string\n",
    "#        : Takes an input string and reverse it between the given indices\n",
    "def revStr(string, start, end):\n",
    "    len = end - start + 1\n",
    "    string = list(string)\n",
    "    result = \"\"\n",
    "    for i in range(len//2):\n",
    "         x = string[start + i]\n",
    "         #print( string[start + i], string[end - i], end = \" \")\n",
    "         string[start + i] = string[end - i]\n",
    "         #print( string[start + i], string[end - i], end = \" \")\n",
    "         string[end - i] = x\n",
    "         #print( string[start + i], string[end - i], end = \" \")\n",
    "    return ''.join(string)"
   ]
  },
  {
   "cell_type": "code",
   "execution_count": 3,
   "id": "63bcbc92",
   "metadata": {},
   "outputs": [],
   "source": [
    "# invString : (string) -> string\n",
    "#           : Takes in a string and computes its inverse\n",
    "def invString(string): \n",
    "    # Reverse the string\n",
    "    string = revStr(string, 0, len(string) - 1) + ' '\n",
    "    liststring = list(string)\n",
    "    # reverse each word before the space \n",
    "    start = 0\n",
    "    end = 0\n",
    "    for i in range(len(string)):\n",
    "        if string[i] == ' ':\n",
    "            end = i - 1\n",
    "            subrevstr = revStr(string, start, end)\n",
    "            for j in range(start, end + 1, 1):\n",
    "                liststring[j] = subrevstr[j]\n",
    "            start = i + 1\n",
    "    liststring.pop()\n",
    "    return ''.join(liststring)"
   ]
  },
  {
   "cell_type": "code",
   "execution_count": 4,
   "id": "89c10195",
   "metadata": {},
   "outputs": [
    {
     "data": {
      "text/plain": [
       "'blue is sky The'"
      ]
     },
     "execution_count": 4,
     "metadata": {},
     "output_type": "execute_result"
    }
   ],
   "source": [
    "string = 'The sky is blue'\n",
    "\n",
    "invString(string)"
   ]
  },
  {
   "cell_type": "code",
   "execution_count": null,
   "id": "30b04d7a",
   "metadata": {},
   "outputs": [],
   "source": []
  }
 ],
 "metadata": {
  "kernelspec": {
   "display_name": "Python 3 (ipykernel)",
   "language": "python",
   "name": "python3"
  },
  "language_info": {
   "codemirror_mode": {
    "name": "ipython",
    "version": 3
   },
   "file_extension": ".py",
   "mimetype": "text/x-python",
   "name": "python",
   "nbconvert_exporter": "python",
   "pygments_lexer": "ipython3",
   "version": "3.8.19"
  }
 },
 "nbformat": 4,
 "nbformat_minor": 5
}
