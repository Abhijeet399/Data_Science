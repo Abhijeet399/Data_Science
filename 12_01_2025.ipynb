{
 "cells": [
  {
   "cell_type": "code",
   "execution_count": 1,
   "id": "b92b0bde",
   "metadata": {},
   "outputs": [],
   "source": [
    "# revStr : ( string, int, int ) -> string\n",
    "#        : Takes an input string and reverse it between the given indices\n",
    "def revStr(string, start, end):\n",
    "    len = end - start + 1\n",
    "    string = list(string)\n",
    "    result = \"\"\n",
    "    for i in range(len//2):\n",
    "         x = string[start + i]\n",
    "         #print( string[start + i], string[end - i], end = \" \")\n",
    "         string[start + i] = string[end - i]\n",
    "         #print( string[start + i], string[end - i], end = \" \")\n",
    "         string[end - i] = x\n",
    "         #print( string[start + i], string[end - i], end = \" \")\n",
    "    return ''.join(string)"
   ]
  },
  {
   "cell_type": "code",
   "execution_count": 4,
   "id": "4722c8c6",
   "metadata": {},
   "outputs": [],
   "source": [
    "# invString : (string) -> string\n",
    "#           : Takes in a string and computes its inverse\n",
    "def invString(string): \n",
    "    # Reverse the string\n",
    "    string = revStr(string, 0, len(string) - 1) + ' '\n",
    "    liststring = list(string)\n",
    "    # reverse each word before the space \n",
    "    start = 0\n",
    "    end = 0\n",
    "    for i in range(len(string)):\n",
    "        if string[i] == ' ':\n",
    "            end = i - 1\n",
    "            subrevstr = revStr(string, start, end)\n",
    "            print(subrevstr)\n",
    "            for j in range(start, end + 1, 1):\n",
    "                liststring[j] = subrevstr[j]\n",
    "            start = i + 1\n",
    "    liststring.pop()\n",
    "    return ''.join(liststring)"
   ]
  },
  {
   "cell_type": "code",
   "execution_count": 7,
   "id": "ba289fe5",
   "metadata": {},
   "outputs": [
    {
     "name": "stdout",
     "output_type": "stream",
     "text": [
      "blue si yks ehT \n",
      "eulb is yks ehT \n",
      "eulb si sky ehT \n",
      "eulb si yks The \n"
     ]
    },
    {
     "data": {
      "text/plain": [
       "'blue is sky The'"
      ]
     },
     "execution_count": 7,
     "metadata": {},
     "output_type": "execute_result"
    }
   ],
   "source": [
    "string = 'The sky is blue'\n",
    "\n",
    "invString(string)"
   ]
  },
  {
   "cell_type": "code",
   "execution_count": 12,
   "id": "003789f7",
   "metadata": {},
   "outputs": [
    {
     "name": "stdout",
     "output_type": "stream",
     "text": [
      "blue is sky The\n"
     ]
    }
   ],
   "source": [
    "ans = ''\n",
    "count = 0\n",
    "\n",
    "for i in string:\n",
    "    count += 1\n",
    "\n",
    "temp = ''\n",
    "for i in range(count - 1, -1, -1):\n",
    "    if (string[i] == ' '):\n",
    "        ans += temp + ' '\n",
    "        temp = ''\n",
    "    else:\n",
    "        temp = string[i] + temp\n",
    "ans += temp\n",
    "print(ans)"
   ]
  },
  {
   "cell_type": "code",
   "execution_count": 13,
   "id": "5c3a96da",
   "metadata": {},
   "outputs": [],
   "source": [
    "def fibSeries(n):\n",
    "    num_prev = 1\n",
    "    num_prev_prev = 0 \n",
    "    print(num_prev_prev, end = \" \")\n",
    "    print(num_prev, end = \" \") \n",
    "    for i in range(2, n + 1):\n",
    "        fibn = num_prev_prev + num_prev\n",
    "        print( fibn, end = \" \")\n",
    "        num_prev_prev = num_prev\n",
    "        num_prev = fibn"
   ]
  },
  {
   "cell_type": "code",
   "execution_count": 16,
   "id": "97591e3a",
   "metadata": {},
   "outputs": [
    {
     "name": "stdout",
     "output_type": "stream",
     "text": [
      "0 1 "
     ]
    }
   ],
   "source": [
    "fibSeries(1)"
   ]
  },
  {
   "cell_type": "code",
   "execution_count": 48,
   "id": "ade78d57",
   "metadata": {},
   "outputs": [],
   "source": [
    "def fib_series(n):\n",
    "    prev = 0\n",
    "    nxt = 1\n",
    "    \n",
    "    for i in range(n):\n",
    "        print(prev, end = ' ')\n",
    "        prev, nxt = nxt, prev + nxt"
   ]
  },
  {
   "cell_type": "code",
   "execution_count": 49,
   "id": "2440a00c",
   "metadata": {},
   "outputs": [
    {
     "name": "stdout",
     "output_type": "stream",
     "text": [
      "0 1 1 2 3 5 8 13 21 34 "
     ]
    }
   ],
   "source": [
    "fib_series(10)"
   ]
  },
  {
   "cell_type": "code",
   "execution_count": 50,
   "id": "bc56c735",
   "metadata": {},
   "outputs": [],
   "source": [
    "def fib_series(n):\n",
    "    prev = 0\n",
    "    nxt = 1\n",
    "    \n",
    "    for i in range(n):\n",
    "        prev, nxt = nxt, prev + nxt\n",
    "#         print(prev, end = ' ')\n",
    "    print(prev)"
   ]
  },
  {
   "cell_type": "code",
   "execution_count": 51,
   "id": "898f832b",
   "metadata": {},
   "outputs": [
    {
     "name": "stdout",
     "output_type": "stream",
     "text": [
      "55\n"
     ]
    }
   ],
   "source": [
    "fib_series(10)"
   ]
  },
  {
   "cell_type": "code",
   "execution_count": 54,
   "id": "0146f506",
   "metadata": {},
   "outputs": [
    {
     "name": "stdout",
     "output_type": "stream",
     "text": [
      "133854803071728\n"
     ]
    }
   ],
   "source": [
    "string = 'Abhijeet'\n",
    "print(id(string))"
   ]
  },
  {
   "cell_type": "code",
   "execution_count": 55,
   "id": "2acd14f1",
   "metadata": {},
   "outputs": [
    {
     "name": "stdout",
     "output_type": "stream",
     "text": [
      "133854872969424\n"
     ]
    }
   ],
   "source": [
    "string = 'Abhijeet Bhattacharya'\n",
    "print(id(string))"
   ]
  },
  {
   "cell_type": "code",
   "execution_count": 56,
   "id": "a9ec5d99",
   "metadata": {},
   "outputs": [],
   "source": [
    "string = '    Hello    '"
   ]
  },
  {
   "cell_type": "code",
   "execution_count": 58,
   "id": "5bccfe78",
   "metadata": {},
   "outputs": [
    {
     "name": "stdout",
     "output_type": "stream",
     "text": [
      "Hello\n"
     ]
    }
   ],
   "source": [
    "ans = ''\n",
    "for i in string:\n",
    "    if (i != ' '):\n",
    "        ans += i\n",
    "print(ans)"
   ]
  },
  {
   "cell_type": "code",
   "execution_count": 60,
   "id": "19123225",
   "metadata": {},
   "outputs": [
    {
     "name": "stdout",
     "output_type": "stream",
     "text": [
      "Hello\n"
     ]
    }
   ],
   "source": [
    "print(string.strip())"
   ]
  },
  {
   "cell_type": "code",
   "execution_count": 61,
   "id": "0cb996df",
   "metadata": {},
   "outputs": [],
   "source": [
    "string.strip?"
   ]
  },
  {
   "cell_type": "code",
   "execution_count": 62,
   "id": "d1472e78",
   "metadata": {},
   "outputs": [
    {
     "name": "stdout",
     "output_type": "stream",
     "text": [
      "    Hello    \n"
     ]
    }
   ],
   "source": [
    "print(string)"
   ]
  },
  {
   "cell_type": "code",
   "execution_count": 63,
   "id": "44f4d787",
   "metadata": {},
   "outputs": [
    {
     "name": "stdout",
     "output_type": "stream",
     "text": [
      "Abhijeet Bhattacharya\n"
     ]
    }
   ],
   "source": [
    "string = '    Abhijeet Bhattacharya    '\n",
    "print(string.strip())"
   ]
  },
  {
   "cell_type": "code",
   "execution_count": 64,
   "id": "cce9dbc9",
   "metadata": {},
   "outputs": [
    {
     "data": {
      "text/plain": [
       "'hello'"
      ]
     },
     "execution_count": 64,
     "metadata": {},
     "output_type": "execute_result"
    }
   ],
   "source": [
    "'Hello'.lower()"
   ]
  },
  {
   "cell_type": "code",
   "execution_count": 65,
   "id": "4ca1c249",
   "metadata": {},
   "outputs": [
    {
     "data": {
      "text/plain": [
       "'HELLO'"
      ]
     },
     "execution_count": 65,
     "metadata": {},
     "output_type": "execute_result"
    }
   ],
   "source": [
    "'Hello'.upper()"
   ]
  },
  {
   "cell_type": "code",
   "execution_count": 67,
   "id": "e1fa029d",
   "metadata": {},
   "outputs": [
    {
     "data": {
      "text/plain": [
       "'    Abhijeet Bhettecherye    '"
      ]
     },
     "execution_count": 67,
     "metadata": {},
     "output_type": "execute_result"
    }
   ],
   "source": [
    "string.replace('a', 'e')"
   ]
  },
  {
   "cell_type": "code",
   "execution_count": 71,
   "id": "5a71a858",
   "metadata": {},
   "outputs": [
    {
     "name": "stdout",
     "output_type": "stream",
     "text": [
      "    Abhijeet Bhattacharya    \n"
     ]
    },
    {
     "data": {
      "text/plain": [
       "4"
      ]
     },
     "execution_count": 71,
     "metadata": {},
     "output_type": "execute_result"
    }
   ],
   "source": [
    "print(string)\n",
    "string.count('a')"
   ]
  },
  {
   "cell_type": "code",
   "execution_count": 77,
   "id": "1765f495",
   "metadata": {},
   "outputs": [],
   "source": [
    "string = 'Hello_my_name_is_Abhijeeet'"
   ]
  },
  {
   "cell_type": "code",
   "execution_count": 78,
   "id": "04c0f755",
   "metadata": {},
   "outputs": [
    {
     "data": {
      "text/plain": [
       "['H', 'llo_my_nam', '_is_Abhij', '', '', 't']"
      ]
     },
     "execution_count": 78,
     "metadata": {},
     "output_type": "execute_result"
    }
   ],
   "source": [
    "string.split('e')"
   ]
  },
  {
   "cell_type": "code",
   "execution_count": 82,
   "id": "35161832",
   "metadata": {},
   "outputs": [
    {
     "name": "stdout",
     "output_type": "stream",
     "text": [
      "Hello_my_n\n"
     ]
    }
   ],
   "source": [
    "print(string[0:10])"
   ]
  },
  {
   "cell_type": "code",
   "execution_count": null,
   "id": "ceae8294",
   "metadata": {},
   "outputs": [],
   "source": []
  }
 ],
 "metadata": {
  "kernelspec": {
   "display_name": "Python 3 (ipykernel)",
   "language": "python",
   "name": "python3"
  },
  "language_info": {
   "codemirror_mode": {
    "name": "ipython",
    "version": 3
   },
   "file_extension": ".py",
   "mimetype": "text/x-python",
   "name": "python",
   "nbconvert_exporter": "python",
   "pygments_lexer": "ipython3",
   "version": "3.8.19"
  }
 },
 "nbformat": 4,
 "nbformat_minor": 5
}
