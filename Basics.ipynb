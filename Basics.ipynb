{
 "cells": [
  {
   "cell_type": "markdown",
   "id": "02ff8c1e",
   "metadata": {},
   "source": [
    "# Basics"
   ]
  },
  {
   "cell_type": "code",
   "execution_count": 1,
   "id": "210cc9c9",
   "metadata": {},
   "outputs": [],
   "source": [
    "var = 10"
   ]
  },
  {
   "cell_type": "code",
   "execution_count": 2,
   "id": "b044e667",
   "metadata": {},
   "outputs": [],
   "source": [
    "a = print"
   ]
  },
  {
   "cell_type": "code",
   "execution_count": 3,
   "id": "64cf7ea6",
   "metadata": {},
   "outputs": [
    {
     "data": {
      "text/plain": [
       "<function print>"
      ]
     },
     "execution_count": 3,
     "metadata": {},
     "output_type": "execute_result"
    }
   ],
   "source": [
    "a"
   ]
  },
  {
   "cell_type": "code",
   "execution_count": 4,
   "id": "404f3d10",
   "metadata": {},
   "outputs": [
    {
     "name": "stdout",
     "output_type": "stream",
     "text": [
      "OUTPUT\n"
     ]
    }
   ],
   "source": [
    "print('OUTPUT')"
   ]
  },
  {
   "cell_type": "code",
   "execution_count": 5,
   "id": "97774345",
   "metadata": {},
   "outputs": [
    {
     "name": "stdout",
     "output_type": "stream",
     "text": [
      "Hello\n"
     ]
    }
   ],
   "source": [
    "print(\"Hello\")"
   ]
  },
  {
   "cell_type": "code",
   "execution_count": 6,
   "id": "865b7d86",
   "metadata": {},
   "outputs": [
    {
     "name": "stdout",
     "output_type": "stream",
     "text": [
      "10\n"
     ]
    }
   ],
   "source": [
    "print(var)"
   ]
  },
  {
   "cell_type": "code",
   "execution_count": 7,
   "id": "9265a1d3",
   "metadata": {},
   "outputs": [
    {
     "name": "stdout",
     "output_type": "stream",
     "text": [
      "7585760\n"
     ]
    }
   ],
   "source": [
    "print(id(var))"
   ]
  },
  {
   "cell_type": "code",
   "execution_count": 8,
   "id": "0db3030d",
   "metadata": {},
   "outputs": [
    {
     "name": "stdout",
     "output_type": "stream",
     "text": [
      "7587200\n"
     ]
    }
   ],
   "source": [
    "print(id(55))           # Understaning objects is must to understand this"
   ]
  },
  {
   "cell_type": "code",
   "execution_count": 9,
   "id": "7bd1a03b",
   "metadata": {},
   "outputs": [
    {
     "name": "stdout",
     "output_type": "stream",
     "text": [
      "10\n"
     ]
    }
   ],
   "source": [
    "print(var)"
   ]
  },
  {
   "cell_type": "code",
   "execution_count": 10,
   "id": "a6095dab",
   "metadata": {},
   "outputs": [
    {
     "name": "stdout",
     "output_type": "stream",
     "text": [
      "1024\n"
     ]
    }
   ],
   "source": [
    "var = 1024           # Integer ----> any number from -inf to +inf\n",
    "print(var)"
   ]
  },
  {
   "cell_type": "code",
   "execution_count": 11,
   "id": "2a7c5f24",
   "metadata": {},
   "outputs": [],
   "source": [
    "var = 123.123        # Float -------> any number with decimal points "
   ]
  },
  {
   "cell_type": "code",
   "execution_count": 12,
   "id": "3d21908b",
   "metadata": {},
   "outputs": [
    {
     "name": "stdout",
     "output_type": "stream",
     "text": [
      "123.123\n"
     ]
    }
   ],
   "source": [
    "print(var)"
   ]
  },
  {
   "cell_type": "code",
   "execution_count": 13,
   "id": "2c105c7d",
   "metadata": {},
   "outputs": [],
   "source": [
    "var = 2.0"
   ]
  },
  {
   "cell_type": "code",
   "execution_count": 14,
   "id": "5869b573",
   "metadata": {},
   "outputs": [
    {
     "name": "stdout",
     "output_type": "stream",
     "text": [
      "2.0\n"
     ]
    }
   ],
   "source": [
    "print(var)"
   ]
  },
  {
   "cell_type": "code",
   "execution_count": 15,
   "id": "fabfb068",
   "metadata": {},
   "outputs": [],
   "source": [
    "# Data-types:\n",
    "# 1. Integer\n",
    "# 2. Float\n",
    "# 3. String\n",
    "# 4. Boolean"
   ]
  },
  {
   "cell_type": "code",
   "execution_count": 16,
   "id": "89858add",
   "metadata": {},
   "outputs": [],
   "source": [
    "var = 'Abhijeet'"
   ]
  },
  {
   "cell_type": "code",
   "execution_count": 17,
   "id": "00e3ccbc",
   "metadata": {},
   "outputs": [
    {
     "name": "stdout",
     "output_type": "stream",
     "text": [
      "Abhijeet\n"
     ]
    }
   ],
   "source": [
    "print(var)"
   ]
  },
  {
   "cell_type": "code",
   "execution_count": 18,
   "id": "6c2a0973",
   "metadata": {},
   "outputs": [
    {
     "name": "stdout",
     "output_type": "stream",
     "text": [
      "Variable   Type                          Data/Info\n",
      "--------------------------------------------------\n",
      "a          builtin_function_or_method    <built-in function print>\n",
      "var        str                           Abhijeet\n"
     ]
    }
   ],
   "source": [
    "# Use this to view all the active variables\n",
    "%whos"
   ]
  },
  {
   "cell_type": "code",
   "execution_count": 19,
   "id": "e2c4fa8c",
   "metadata": {},
   "outputs": [],
   "source": [
    "var = '123@/*-456'"
   ]
  },
  {
   "cell_type": "code",
   "execution_count": 20,
   "id": "7480dae6",
   "metadata": {},
   "outputs": [
    {
     "name": "stdout",
     "output_type": "stream",
     "text": [
      "123@/*-456\n"
     ]
    }
   ],
   "source": [
    "print(var)"
   ]
  },
  {
   "cell_type": "code",
   "execution_count": 21,
   "id": "e88d883e",
   "metadata": {},
   "outputs": [],
   "source": [
    "var = \"Abhijeet''''''''\""
   ]
  },
  {
   "cell_type": "code",
   "execution_count": 22,
   "id": "7b297fbb",
   "metadata": {},
   "outputs": [
    {
     "name": "stdout",
     "output_type": "stream",
     "text": [
      "Abhijeet''''''''\n"
     ]
    }
   ],
   "source": [
    "print(var)"
   ]
  },
  {
   "cell_type": "code",
   "execution_count": 23,
   "id": "c15f735f",
   "metadata": {},
   "outputs": [
    {
     "name": "stdout",
     "output_type": "stream",
     "text": [
      "Abhijeet'''''''' hello\n"
     ]
    }
   ],
   "source": [
    "print(var, 'hello')"
   ]
  },
  {
   "cell_type": "code",
   "execution_count": 24,
   "id": "1521cf9a",
   "metadata": {},
   "outputs": [
    {
     "name": "stdout",
     "output_type": "stream",
     "text": [
      "Abhijeet'''''''' hello\n"
     ]
    }
   ],
   "source": [
    "print(var, 'hello')"
   ]
  },
  {
   "cell_type": "code",
   "execution_count": 25,
   "id": "471a7e5c",
   "metadata": {},
   "outputs": [],
   "source": [
    "var = -1"
   ]
  },
  {
   "cell_type": "code",
   "execution_count": 26,
   "id": "261270fb",
   "metadata": {},
   "outputs": [
    {
     "name": "stdout",
     "output_type": "stream",
     "text": [
      "-1\n"
     ]
    }
   ],
   "source": [
    "print(var)"
   ]
  },
  {
   "cell_type": "code",
   "execution_count": 27,
   "id": "7a251802",
   "metadata": {},
   "outputs": [
    {
     "data": {
      "text/plain": [
       "True"
      ]
     },
     "execution_count": 27,
     "metadata": {},
     "output_type": "execute_result"
    }
   ],
   "source": [
    "True"
   ]
  },
  {
   "cell_type": "code",
   "execution_count": 28,
   "id": "009c4049",
   "metadata": {},
   "outputs": [
    {
     "data": {
      "text/plain": [
       "False"
      ]
     },
     "execution_count": 28,
     "metadata": {},
     "output_type": "execute_result"
    }
   ],
   "source": [
    "False"
   ]
  },
  {
   "cell_type": "code",
   "execution_count": 29,
   "id": "653c3406",
   "metadata": {},
   "outputs": [],
   "source": [
    "var = 10"
   ]
  },
  {
   "cell_type": "code",
   "execution_count": 30,
   "id": "6e8135a3",
   "metadata": {},
   "outputs": [
    {
     "name": "stdout",
     "output_type": "stream",
     "text": [
      "10 7585760\n"
     ]
    }
   ],
   "source": [
    "print(var, id(var))"
   ]
  },
  {
   "cell_type": "code",
   "execution_count": 31,
   "id": "97de1273",
   "metadata": {},
   "outputs": [],
   "source": [
    "var = 20"
   ]
  },
  {
   "cell_type": "code",
   "execution_count": 32,
   "id": "2487f15a",
   "metadata": {},
   "outputs": [
    {
     "name": "stdout",
     "output_type": "stream",
     "text": [
      "20 7586080\n"
     ]
    }
   ],
   "source": [
    "print(var, id(var))"
   ]
  },
  {
   "cell_type": "code",
   "execution_count": 33,
   "id": "65a28706",
   "metadata": {},
   "outputs": [],
   "source": [
    "var = 30"
   ]
  },
  {
   "cell_type": "code",
   "execution_count": 34,
   "id": "72421dd6",
   "metadata": {},
   "outputs": [
    {
     "name": "stdout",
     "output_type": "stream",
     "text": [
      "30 7586400\n"
     ]
    }
   ],
   "source": [
    "print(var, id(var))"
   ]
  },
  {
   "cell_type": "code",
   "execution_count": 35,
   "id": "e573a21d",
   "metadata": {},
   "outputs": [],
   "source": [
    "var1 = 30"
   ]
  },
  {
   "cell_type": "code",
   "execution_count": 36,
   "id": "b4bb8570",
   "metadata": {},
   "outputs": [
    {
     "name": "stdout",
     "output_type": "stream",
     "text": [
      "30 7586400\n"
     ]
    }
   ],
   "source": [
    "print(var1, id(var1))"
   ]
  },
  {
   "cell_type": "code",
   "execution_count": 37,
   "id": "ca14bef4",
   "metadata": {},
   "outputs": [],
   "source": [
    "var = var + 10"
   ]
  },
  {
   "cell_type": "code",
   "execution_count": 38,
   "id": "95179b1d",
   "metadata": {},
   "outputs": [
    {
     "name": "stdout",
     "output_type": "stream",
     "text": [
      "40 7586720\n"
     ]
    }
   ],
   "source": [
    "print(var, id(var))"
   ]
  },
  {
   "cell_type": "code",
   "execution_count": 39,
   "id": "4b58ecd7",
   "metadata": {},
   "outputs": [
    {
     "name": "stdout",
     "output_type": "stream",
     "text": [
      "30 7586400\n"
     ]
    }
   ],
   "source": [
    "print(var1, id(var1))"
   ]
  },
  {
   "cell_type": "code",
   "execution_count": 40,
   "id": "057f4356",
   "metadata": {},
   "outputs": [],
   "source": [
    "b = 5"
   ]
  },
  {
   "cell_type": "code",
   "execution_count": 41,
   "id": "f39e979f",
   "metadata": {},
   "outputs": [
    {
     "name": "stdout",
     "output_type": "stream",
     "text": [
      "5 5 7585600 7585600\n",
      "5 10 7585600 7585760\n"
     ]
    }
   ],
   "source": [
    "c = 5\n",
    "print(c, b, id(c), id(b))\n",
    "b = b + 5\n",
    "print(c, b, id(c), id(b))"
   ]
  },
  {
   "cell_type": "code",
   "execution_count": 42,
   "id": "89f3d0e9",
   "metadata": {},
   "outputs": [
    {
     "name": "stdout",
     "output_type": "stream",
     "text": [
      "5 5 7585600 7585600\n"
     ]
    }
   ],
   "source": [
    "b = b - 5\n",
    "print(c, b, id(c), id(b))"
   ]
  },
  {
   "cell_type": "code",
   "execution_count": 43,
   "id": "6e018f04",
   "metadata": {},
   "outputs": [
    {
     "data": {
      "text/plain": [
       "'__main__'"
      ]
     },
     "execution_count": 43,
     "metadata": {},
     "output_type": "execute_result"
    }
   ],
   "source": [
    "__name__"
   ]
  },
  {
   "cell_type": "code",
   "execution_count": 44,
   "id": "0d80c94c",
   "metadata": {},
   "outputs": [],
   "source": [
    "import numpy as np"
   ]
  },
  {
   "cell_type": "code",
   "execution_count": 45,
   "id": "5118f1a7",
   "metadata": {},
   "outputs": [],
   "source": [
    "np?"
   ]
  },
  {
   "cell_type": "code",
   "execution_count": 46,
   "id": "3858b23d",
   "metadata": {},
   "outputs": [
    {
     "data": {
      "text/plain": [
       "<function numpy.array>"
      ]
     },
     "execution_count": 46,
     "metadata": {},
     "output_type": "execute_result"
    }
   ],
   "source": [
    "np.array"
   ]
  },
  {
   "cell_type": "code",
   "execution_count": 47,
   "id": "78b00549",
   "metadata": {},
   "outputs": [],
   "source": [
    "c = 1000"
   ]
  },
  {
   "cell_type": "code",
   "execution_count": 48,
   "id": "df1c0e7c",
   "metadata": {},
   "outputs": [],
   "source": [
    "d = 1000"
   ]
  },
  {
   "cell_type": "code",
   "execution_count": 49,
   "id": "3aac980e",
   "metadata": {},
   "outputs": [
    {
     "name": "stdout",
     "output_type": "stream",
     "text": [
      "1000 1000 136241303995472 136241303995952\n"
     ]
    }
   ],
   "source": [
    "print(c, d, id(c), id(d))"
   ]
  },
  {
   "cell_type": "code",
   "execution_count": 50,
   "id": "d8e8e72f",
   "metadata": {},
   "outputs": [],
   "source": [
    "var = 30"
   ]
  },
  {
   "cell_type": "code",
   "execution_count": 51,
   "id": "d6d77b9f",
   "metadata": {},
   "outputs": [
    {
     "name": "stdout",
     "output_type": "stream",
     "text": [
      "7586400\n"
     ]
    }
   ],
   "source": [
    "print(id(var))"
   ]
  },
  {
   "cell_type": "code",
   "execution_count": 52,
   "id": "07a654de",
   "metadata": {},
   "outputs": [],
   "source": [
    "var1 = 30"
   ]
  },
  {
   "cell_type": "code",
   "execution_count": 53,
   "id": "6de7bde3",
   "metadata": {},
   "outputs": [
    {
     "name": "stdout",
     "output_type": "stream",
     "text": [
      "7586400\n"
     ]
    }
   ],
   "source": [
    "print(id(var1))"
   ]
  },
  {
   "cell_type": "code",
   "execution_count": 67,
   "id": "e5d45c35",
   "metadata": {},
   "outputs": [],
   "source": [
    "var = 257"
   ]
  },
  {
   "cell_type": "code",
   "execution_count": 68,
   "id": "9a3cba03",
   "metadata": {},
   "outputs": [
    {
     "name": "stdout",
     "output_type": "stream",
     "text": [
      "136241346220976\n"
     ]
    }
   ],
   "source": [
    "print(id(var))"
   ]
  },
  {
   "cell_type": "code",
   "execution_count": 74,
   "id": "ad9edd9f",
   "metadata": {},
   "outputs": [],
   "source": [
    "var1 = 257                # Assignment Operation"
   ]
  },
  {
   "cell_type": "code",
   "execution_count": 70,
   "id": "7ea24dd0",
   "metadata": {},
   "outputs": [
    {
     "name": "stdout",
     "output_type": "stream",
     "text": [
      "136241346222864\n"
     ]
    }
   ],
   "source": [
    "print(id(var1))"
   ]
  },
  {
   "cell_type": "code",
   "execution_count": 72,
   "id": "56fc3fe7",
   "metadata": {},
   "outputs": [
    {
     "name": "stdout",
     "output_type": "stream",
     "text": [
      "7585280 7585280\n"
     ]
    }
   ],
   "source": [
    "var = -5\n",
    "var1 = -5\n",
    "print(id(var), id(var1))"
   ]
  },
  {
   "cell_type": "code",
   "execution_count": 76,
   "id": "6230b2d8",
   "metadata": {},
   "outputs": [
    {
     "name": "stdout",
     "output_type": "stream",
     "text": [
      "3\n"
     ]
    }
   ],
   "source": [
    "print(1 + 1 + 1)"
   ]
  },
  {
   "cell_type": "code",
   "execution_count": 78,
   "id": "d4951397",
   "metadata": {},
   "outputs": [
    {
     "name": "stdout",
     "output_type": "stream",
     "text": [
      "-1\n"
     ]
    }
   ],
   "source": [
    "print(1 - 2)"
   ]
  },
  {
   "cell_type": "code",
   "execution_count": 79,
   "id": "d1792b61",
   "metadata": {},
   "outputs": [
    {
     "name": "stdout",
     "output_type": "stream",
     "text": [
      "2\n"
     ]
    }
   ],
   "source": [
    "print(1 * 2)"
   ]
  },
  {
   "cell_type": "code",
   "execution_count": 80,
   "id": "9cf96225",
   "metadata": {},
   "outputs": [
    {
     "name": "stdout",
     "output_type": "stream",
     "text": [
      "0.5\n"
     ]
    }
   ],
   "source": [
    "print(1/2)"
   ]
  },
  {
   "cell_type": "code",
   "execution_count": 81,
   "id": "bdd538d9",
   "metadata": {},
   "outputs": [
    {
     "name": "stdout",
     "output_type": "stream",
     "text": [
      "256\n"
     ]
    }
   ],
   "source": [
    "print(2**8)"
   ]
  },
  {
   "cell_type": "code",
   "execution_count": 82,
   "id": "e017c11b",
   "metadata": {},
   "outputs": [
    {
     "name": "stdout",
     "output_type": "stream",
     "text": [
      "2\n"
     ]
    }
   ],
   "source": [
    "print(5//2)"
   ]
  },
  {
   "cell_type": "code",
   "execution_count": 83,
   "id": "13085a19",
   "metadata": {},
   "outputs": [
    {
     "name": "stdout",
     "output_type": "stream",
     "text": [
      "1\n"
     ]
    }
   ],
   "source": [
    "print(5%2)"
   ]
  },
  {
   "cell_type": "code",
   "execution_count": 84,
   "id": "b117869e",
   "metadata": {},
   "outputs": [
    {
     "name": "stdout",
     "output_type": "stream",
     "text": [
      "AbhijeetBhattacharya\n"
     ]
    }
   ],
   "source": [
    "print('Abhijeet' + 'Bhattacharya')"
   ]
  },
  {
   "cell_type": "code",
   "execution_count": 85,
   "id": "b282506d",
   "metadata": {},
   "outputs": [
    {
     "ename": "TypeError",
     "evalue": "can only concatenate str (not \"int\") to str",
     "output_type": "error",
     "traceback": [
      "\u001b[0;31m---------------------------------------------------------------------------\u001b[0m",
      "\u001b[0;31mTypeError\u001b[0m                                 Traceback (most recent call last)",
      "Cell \u001b[0;32mIn[85], line 1\u001b[0m\n\u001b[0;32m----> 1\u001b[0m \u001b[38;5;28mprint\u001b[39m(\u001b[38;5;124;43m'\u001b[39;49m\u001b[38;5;124;43mAbhijeet\u001b[39;49m\u001b[38;5;124;43m'\u001b[39;49m\u001b[43m \u001b[49m\u001b[38;5;241;43m+\u001b[39;49m\u001b[43m \u001b[49m\u001b[38;5;241;43m2\u001b[39;49m)\n",
      "\u001b[0;31mTypeError\u001b[0m: can only concatenate str (not \"int\") to str"
     ]
    }
   ],
   "source": [
    "print('Abhijeet' + 2)"
   ]
  },
  {
   "cell_type": "code",
   "execution_count": 86,
   "id": "a387671f",
   "metadata": {},
   "outputs": [
    {
     "name": "stdout",
     "output_type": "stream",
     "text": [
      "AAAAA\n"
     ]
    }
   ],
   "source": [
    "print('A' * 5)"
   ]
  },
  {
   "cell_type": "code",
   "execution_count": 89,
   "id": "5da8be03",
   "metadata": {},
   "outputs": [
    {
     "ename": "TypeError",
     "evalue": "unsupported operand type(s) for -: 'str' and 'int'",
     "output_type": "error",
     "traceback": [
      "\u001b[0;31m---------------------------------------------------------------------------\u001b[0m",
      "\u001b[0;31mTypeError\u001b[0m                                 Traceback (most recent call last)",
      "Cell \u001b[0;32mIn[89], line 1\u001b[0m\n\u001b[0;32m----> 1\u001b[0m \u001b[38;5;28mprint\u001b[39m(\u001b[38;5;124;43m'\u001b[39;49m\u001b[38;5;124;43mAAAAA\u001b[39;49m\u001b[38;5;124;43m'\u001b[39;49m\u001b[43m \u001b[49m\u001b[38;5;241;43m-\u001b[39;49m\u001b[43m \u001b[49m\u001b[38;5;241;43m5\u001b[39;49m)\n",
      "\u001b[0;31mTypeError\u001b[0m: unsupported operand type(s) for -: 'str' and 'int'"
     ]
    }
   ],
   "source": [
    "print('AAAAA' - 5)"
   ]
  },
  {
   "cell_type": "code",
   "execution_count": 91,
   "id": "ad02a47c",
   "metadata": {},
   "outputs": [
    {
     "name": "stdout",
     "output_type": "stream",
     "text": [
      "136241162783408 136241162783408\n"
     ]
    }
   ],
   "source": [
    "var = 'AbhijeetsafhsoiauhfslkDFBskjdhfbksjdfb'\n",
    "var1 = 'AbhijeetsafhsoiauhfslkDFBskjdhfbksjdfb'\n",
    "print(id(var), id(var1))"
   ]
  },
  {
   "cell_type": "code",
   "execution_count": 113,
   "id": "8459c187",
   "metadata": {},
   "outputs": [
    {
     "name": "stdout",
     "output_type": "stream",
     "text": [
      "65\n"
     ]
    }
   ],
   "source": [
    "print(ord('A'))"
   ]
  },
  {
   "cell_type": "code",
   "execution_count": 107,
   "id": "35f0194c",
   "metadata": {},
   "outputs": [
    {
     "name": "stdout",
     "output_type": "stream",
     "text": [
      "7\n"
     ]
    }
   ],
   "source": [
    "print(chr(55))"
   ]
  },
  {
   "cell_type": "code",
   "execution_count": 109,
   "id": "b46493c4",
   "metadata": {},
   "outputs": [],
   "source": [
    "# A ------> a"
   ]
  },
  {
   "cell_type": "code",
   "execution_count": 114,
   "id": "318f5ef0",
   "metadata": {},
   "outputs": [
    {
     "name": "stdout",
     "output_type": "stream",
     "text": [
      "a\n"
     ]
    }
   ],
   "source": [
    "print(chr(65 + 32))"
   ]
  },
  {
   "cell_type": "code",
   "execution_count": 119,
   "id": "9a4431a4",
   "metadata": {},
   "outputs": [
    {
     "name": "stdout",
     "output_type": "stream",
     "text": [
      "q\n"
     ]
    }
   ],
   "source": [
    "print(chr(ord('Q') + (ord('a') - ord('A'))))"
   ]
  },
  {
   "cell_type": "code",
   "execution_count": 120,
   "id": "f575270d",
   "metadata": {},
   "outputs": [],
   "source": [
    "# Functions "
   ]
  },
  {
   "cell_type": "code",
   "execution_count": 122,
   "id": "04f8966e",
   "metadata": {},
   "outputs": [],
   "source": [
    "def hello_world():\n",
    "    print('Hello World')"
   ]
  },
  {
   "cell_type": "code",
   "execution_count": 124,
   "id": "5773b915",
   "metadata": {},
   "outputs": [
    {
     "name": "stdout",
     "output_type": "stream",
     "text": [
      "<function hello_world at 0x7be91e1c3700>\n"
     ]
    }
   ],
   "source": [
    "print(hello_world)"
   ]
  },
  {
   "cell_type": "code",
   "execution_count": 129,
   "id": "f5adc7f0",
   "metadata": {},
   "outputs": [
    {
     "name": "stdout",
     "output_type": "stream",
     "text": [
      "Hello World\n",
      "None\n"
     ]
    }
   ],
   "source": [
    "print(hello_world())"
   ]
  },
  {
   "cell_type": "code",
   "execution_count": 130,
   "id": "d552f988",
   "metadata": {},
   "outputs": [],
   "source": [
    "def abhijeet():\n",
    "    var()"
   ]
  },
  {
   "cell_type": "code",
   "execution_count": 132,
   "id": "5f9936d8",
   "metadata": {},
   "outputs": [
    {
     "ename": "TypeError",
     "evalue": "'str' object is not callable",
     "output_type": "error",
     "traceback": [
      "\u001b[0;31m---------------------------------------------------------------------------\u001b[0m",
      "\u001b[0;31mTypeError\u001b[0m                                 Traceback (most recent call last)",
      "Cell \u001b[0;32mIn[132], line 1\u001b[0m\n\u001b[0;32m----> 1\u001b[0m \u001b[38;5;28mprint\u001b[39m(\u001b[43mabhijeet\u001b[49m\u001b[43m(\u001b[49m\u001b[43m)\u001b[49m)\n",
      "Cell \u001b[0;32mIn[130], line 2\u001b[0m, in \u001b[0;36mabhijeet\u001b[0;34m()\u001b[0m\n\u001b[1;32m      1\u001b[0m \u001b[38;5;28;01mdef\u001b[39;00m \u001b[38;5;21mabhijeet\u001b[39m():\n\u001b[0;32m----> 2\u001b[0m     \u001b[43mvar\u001b[49m\u001b[43m(\u001b[49m\u001b[43m)\u001b[49m\n",
      "\u001b[0;31mTypeError\u001b[0m: 'str' object is not callable"
     ]
    }
   ],
   "source": [
    "print(abhijeet())"
   ]
  },
  {
   "cell_type": "code",
   "execution_count": 150,
   "id": "c0f23059",
   "metadata": {},
   "outputs": [],
   "source": [
    "def calculator(arg1, arg2):\n",
    "#     print(arg1 + arg2)\n",
    "#     print(arg1 * arg2)\n",
    "#     print(arg1 - arg2)\n",
    "#     print(arg1 / arg2)\n",
    "    \n",
    "    return arg1 + arg2, arg1 * arg2, arg1 - arg2, arg1 / arg2"
   ]
  },
  {
   "cell_type": "code",
   "execution_count": 151,
   "id": "35298e39",
   "metadata": {},
   "outputs": [],
   "source": [
    "add, sub, mult, div = calculator(1, 6)"
   ]
  },
  {
   "cell_type": "code",
   "execution_count": 152,
   "id": "6ccf938b",
   "metadata": {},
   "outputs": [
    {
     "name": "stdout",
     "output_type": "stream",
     "text": [
      "7\n"
     ]
    }
   ],
   "source": [
    "print(add)"
   ]
  },
  {
   "cell_type": "code",
   "execution_count": 153,
   "id": "e6572774",
   "metadata": {},
   "outputs": [
    {
     "name": "stdout",
     "output_type": "stream",
     "text": [
      "6 -5 0.16666666666666666\n"
     ]
    }
   ],
   "source": [
    "print(sub, mult, div)"
   ]
  },
  {
   "cell_type": "code",
   "execution_count": 157,
   "id": "cf334e8d",
   "metadata": {},
   "outputs": [],
   "source": [
    "def lower_upper(lower):\n",
    "    return (chr(ord(lower) - (ord('a') - ord('A'))))"
   ]
  },
  {
   "cell_type": "code",
   "execution_count": 158,
   "id": "d640f7ba",
   "metadata": {},
   "outputs": [
    {
     "data": {
      "text/plain": [
       "'B'"
      ]
     },
     "execution_count": 158,
     "metadata": {},
     "output_type": "execute_result"
    }
   ],
   "source": [
    "lower_upper('b')"
   ]
  },
  {
   "cell_type": "code",
   "execution_count": 160,
   "id": "cb8b2a9f",
   "metadata": {},
   "outputs": [],
   "source": [
    "a = print"
   ]
  },
  {
   "cell_type": "code",
   "execution_count": 162,
   "id": "edc51405",
   "metadata": {},
   "outputs": [
    {
     "name": "stdout",
     "output_type": "stream",
     "text": [
      "Hello World\n"
     ]
    }
   ],
   "source": [
    "a('Hello World')"
   ]
  },
  {
   "cell_type": "code",
   "execution_count": 164,
   "id": "648fa2bf",
   "metadata": {},
   "outputs": [],
   "source": [
    "# Operators\n",
    "# Arithmatic Operators\n",
    "# +, -, *, /, //, **, %"
   ]
  },
  {
   "cell_type": "code",
   "execution_count": null,
   "id": "83acd089",
   "metadata": {},
   "outputs": [],
   "source": []
  }
 ],
 "metadata": {
  "kernelspec": {
   "display_name": "Python 3 (ipykernel)",
   "language": "python",
   "name": "python3"
  },
  "language_info": {
   "codemirror_mode": {
    "name": "ipython",
    "version": 3
   },
   "file_extension": ".py",
   "mimetype": "text/x-python",
   "name": "python",
   "nbconvert_exporter": "python",
   "pygments_lexer": "ipython3",
   "version": "3.8.19"
  }
 },
 "nbformat": 4,
 "nbformat_minor": 5
}
