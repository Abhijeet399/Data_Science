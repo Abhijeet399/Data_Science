{
 "cells": [
  {
   "cell_type": "code",
   "execution_count": 2,
   "id": "4879143b",
   "metadata": {},
   "outputs": [
    {
     "ename": "SyntaxError",
     "evalue": "cannot assign to literal (43473201.py, line 2)",
     "output_type": "error",
     "traceback": [
      "\u001b[0;36m  Cell \u001b[0;32mIn[2], line 2\u001b[0;36m\u001b[0m\n\u001b[0;31m    2 = 2\u001b[0m\n\u001b[0m    ^\u001b[0m\n\u001b[0;31mSyntaxError\u001b[0m\u001b[0;31m:\u001b[0m cannot assign to literal\n"
     ]
    }
   ],
   "source": [
    "# Logical Operators\n",
    "2 = 2"
   ]
  },
  {
   "cell_type": "code",
   "execution_count": 8,
   "id": "2e81c2e4",
   "metadata": {},
   "outputs": [],
   "source": [
    "var_ = 10"
   ]
  },
  {
   "cell_type": "code",
   "execution_count": 10,
   "id": "77c214ea",
   "metadata": {},
   "outputs": [
    {
     "data": {
      "text/plain": [
       "False"
      ]
     },
     "execution_count": 10,
     "metadata": {},
     "output_type": "execute_result"
    }
   ],
   "source": [
    "2 == 20"
   ]
  },
  {
   "cell_type": "code",
   "execution_count": 12,
   "id": "39832816",
   "metadata": {},
   "outputs": [
    {
     "data": {
      "text/plain": [
       "True"
      ]
     },
     "execution_count": 12,
     "metadata": {},
     "output_type": "execute_result"
    }
   ],
   "source": [
    "10 == 10"
   ]
  },
  {
   "cell_type": "code",
   "execution_count": 13,
   "id": "4a24215d",
   "metadata": {},
   "outputs": [
    {
     "name": "stdout",
     "output_type": "stream",
     "text": [
      "10\n"
     ]
    }
   ],
   "source": [
    "print(var_)"
   ]
  },
  {
   "cell_type": "code",
   "execution_count": 14,
   "id": "e5902f65",
   "metadata": {},
   "outputs": [
    {
     "data": {
      "text/plain": [
       "True"
      ]
     },
     "execution_count": 14,
     "metadata": {},
     "output_type": "execute_result"
    }
   ],
   "source": [
    "var_ > 5"
   ]
  },
  {
   "cell_type": "code",
   "execution_count": 16,
   "id": "f2bde6fa",
   "metadata": {},
   "outputs": [
    {
     "data": {
      "text/plain": [
       "False"
      ]
     },
     "execution_count": 16,
     "metadata": {},
     "output_type": "execute_result"
    }
   ],
   "source": [
    "var_ >= 50"
   ]
  },
  {
   "cell_type": "code",
   "execution_count": 17,
   "id": "faff46e8",
   "metadata": {},
   "outputs": [
    {
     "data": {
      "text/plain": [
       "False"
      ]
     },
     "execution_count": 17,
     "metadata": {},
     "output_type": "execute_result"
    }
   ],
   "source": [
    "var_ <= 5"
   ]
  },
  {
   "cell_type": "code",
   "execution_count": 19,
   "id": "2843c958",
   "metadata": {},
   "outputs": [
    {
     "data": {
      "text/plain": [
       "True"
      ]
     },
     "execution_count": 19,
     "metadata": {},
     "output_type": "execute_result"
    }
   ],
   "source": [
    "var_ != 5"
   ]
  },
  {
   "cell_type": "code",
   "execution_count": 21,
   "id": "906d7b92",
   "metadata": {},
   "outputs": [],
   "source": [
    "# Conditional Statements\n",
    "# If\n",
    "# Elif\n",
    "# Else"
   ]
  },
  {
   "cell_type": "code",
   "execution_count": 32,
   "id": "637c79e3",
   "metadata": {},
   "outputs": [],
   "source": [
    "var = 50"
   ]
  },
  {
   "cell_type": "code",
   "execution_count": 29,
   "id": "7174c578",
   "metadata": {},
   "outputs": [
    {
     "name": "stdout",
     "output_type": "stream",
     "text": [
      "Var > 5\n"
     ]
    }
   ],
   "source": [
    "if (var > 5):\n",
    "    print('Var > 5')\n",
    "elif (var > 8):\n",
    "    print('Var > 8')"
   ]
  },
  {
   "cell_type": "code",
   "execution_count": 30,
   "id": "3e8a8200",
   "metadata": {},
   "outputs": [
    {
     "name": "stdout",
     "output_type": "stream",
     "text": [
      "Var > 5\n",
      "Var > 10\n"
     ]
    }
   ],
   "source": [
    "if (var > 50):\n",
    "    print('Var > 50')\n",
    "if (var > 100):\n",
    "    print('Var > 10')\n",
    "elif (var > 8):\n",
    "    print('var > 8')"
   ]
  },
  {
   "cell_type": "code",
   "execution_count": 36,
   "id": "1fec65c1",
   "metadata": {},
   "outputs": [
    {
     "name": "stdout",
     "output_type": "stream",
     "text": [
      "Var = 50\n"
     ]
    }
   ],
   "source": [
    "if (var > 50):\n",
    "    print('Var > 50')\n",
    "elif (var < 50):\n",
    "    print('var < 50')\n",
    "else:\n",
    "    print('Var = 50')"
   ]
  },
  {
   "cell_type": "code",
   "execution_count": 40,
   "id": "4761b12f",
   "metadata": {},
   "outputs": [
    {
     "name": "stdout",
     "output_type": "stream",
     "text": [
      "Abhijeet\n"
     ]
    }
   ],
   "source": [
    "if (100 > var > 10):\n",
    "    print('Abhijeet')"
   ]
  },
  {
   "cell_type": "code",
   "execution_count": 41,
   "id": "c2c911bb",
   "metadata": {},
   "outputs": [
    {
     "name": "stdout",
     "output_type": "stream",
     "text": [
      "123\n"
     ]
    }
   ],
   "source": [
    "if (1):\n",
    "    print(123)"
   ]
  },
  {
   "cell_type": "code",
   "execution_count": 43,
   "id": "6275e3cd",
   "metadata": {},
   "outputs": [
    {
     "data": {
      "text/plain": [
       "2"
      ]
     },
     "execution_count": 43,
     "metadata": {},
     "output_type": "execute_result"
    }
   ],
   "source": [
    "True + True + False"
   ]
  },
  {
   "cell_type": "code",
   "execution_count": 46,
   "id": "4e9a508d",
   "metadata": {},
   "outputs": [
    {
     "name": "stdout",
     "output_type": "stream",
     "text": [
      "B\n"
     ]
    }
   ],
   "source": [
    "# marks = input('Enter your marks')\n",
    "\n",
    "marks = 85\n",
    "\n",
    "if marks >= 90:\n",
    "    print('A')\n",
    "elif marks >= 80:\n",
    "    print('B')\n",
    "elif marks >= 70:\n",
    "    print('C')\n",
    "elif marks >= 60:\n",
    "    print('D')\n",
    "else:\n",
    "    print('F')"
   ]
  },
  {
   "cell_type": "code",
   "execution_count": 50,
   "id": "c90e5aed",
   "metadata": {},
   "outputs": [],
   "source": [
    "def compare(a, b):\n",
    "    if (a >= b):\n",
    "        print(a)\n",
    "        return a\n",
    "    else:\n",
    "        print(b)\n",
    "        return b"
   ]
  },
  {
   "cell_type": "code",
   "execution_count": 49,
   "id": "cdac06da",
   "metadata": {},
   "outputs": [
    {
     "name": "stdout",
     "output_type": "stream",
     "text": [
      "10\n"
     ]
    }
   ],
   "source": [
    "compare(10, 10)"
   ]
  },
  {
   "cell_type": "code",
   "execution_count": 52,
   "id": "c6585f8b",
   "metadata": {},
   "outputs": [],
   "source": [
    "def calc(a, b, button):\n",
    "    if (button == '+'):\n",
    "        print(a + b)\n",
    "    elif button == '-':\n",
    "        print(a - b)\n",
    "    elif button == '*':\n",
    "        print(a * b)\n",
    "    elif (button == '/'):\n",
    "        print(a/b)\n",
    "    else:\n",
    "        print('Unknown Operation')"
   ]
  },
  {
   "cell_type": "code",
   "execution_count": 56,
   "id": "7c857594",
   "metadata": {},
   "outputs": [
    {
     "name": "stdout",
     "output_type": "stream",
     "text": [
      "0.2\n"
     ]
    }
   ],
   "source": [
    "calc(1, 5, '/')"
   ]
  },
  {
   "cell_type": "code",
   "execution_count": 59,
   "id": "b7d364cf",
   "metadata": {},
   "outputs": [],
   "source": [
    "# Logical operators\n",
    "# And\n",
    "# Or\n",
    "# Not"
   ]
  },
  {
   "cell_type": "code",
   "execution_count": 60,
   "id": "07522e84",
   "metadata": {},
   "outputs": [
    {
     "data": {
      "text/plain": [
       "True"
      ]
     },
     "execution_count": 60,
     "metadata": {},
     "output_type": "execute_result"
    }
   ],
   "source": [
    "True and True"
   ]
  },
  {
   "cell_type": "code",
   "execution_count": 61,
   "id": "8e131e63",
   "metadata": {},
   "outputs": [
    {
     "data": {
      "text/plain": [
       "False"
      ]
     },
     "execution_count": 61,
     "metadata": {},
     "output_type": "execute_result"
    }
   ],
   "source": [
    "True and False"
   ]
  },
  {
   "cell_type": "code",
   "execution_count": 62,
   "id": "85a387ae",
   "metadata": {},
   "outputs": [
    {
     "data": {
      "text/plain": [
       "False"
      ]
     },
     "execution_count": 62,
     "metadata": {},
     "output_type": "execute_result"
    }
   ],
   "source": [
    "False and False"
   ]
  },
  {
   "cell_type": "code",
   "execution_count": 65,
   "id": "ff77de46",
   "metadata": {},
   "outputs": [
    {
     "data": {
      "text/plain": [
       "True"
      ]
     },
     "execution_count": 65,
     "metadata": {},
     "output_type": "execute_result"
    }
   ],
   "source": [
    "(1 == 1) and (5 == 5) and (0 == 0)"
   ]
  },
  {
   "cell_type": "code",
   "execution_count": 66,
   "id": "471c99a5",
   "metadata": {},
   "outputs": [
    {
     "data": {
      "text/plain": [
       "True"
      ]
     },
     "execution_count": 66,
     "metadata": {},
     "output_type": "execute_result"
    }
   ],
   "source": [
    "(1 == 0) or (1 > 0)"
   ]
  },
  {
   "cell_type": "code",
   "execution_count": 67,
   "id": "177d5296",
   "metadata": {},
   "outputs": [
    {
     "data": {
      "text/plain": [
       "False"
      ]
     },
     "execution_count": 67,
     "metadata": {},
     "output_type": "execute_result"
    }
   ],
   "source": [
    "False or False"
   ]
  },
  {
   "cell_type": "code",
   "execution_count": 68,
   "id": "1fae8d79",
   "metadata": {},
   "outputs": [
    {
     "name": "stdout",
     "output_type": "stream",
     "text": [
      "Not going outside\n"
     ]
    }
   ],
   "source": [
    "whether = 'snow'\n",
    "\n",
    "if (whether == 'rain' or whether == 'snow'):\n",
    "    print('Not going outside')"
   ]
  },
  {
   "cell_type": "code",
   "execution_count": 69,
   "id": "2b4e165b",
   "metadata": {},
   "outputs": [
    {
     "data": {
      "text/plain": [
       "True"
      ]
     },
     "execution_count": 69,
     "metadata": {},
     "output_type": "execute_result"
    }
   ],
   "source": [
    "not False"
   ]
  },
  {
   "cell_type": "code",
   "execution_count": 70,
   "id": "e5a84462",
   "metadata": {},
   "outputs": [
    {
     "data": {
      "text/plain": [
       "False"
      ]
     },
     "execution_count": 70,
     "metadata": {},
     "output_type": "execute_result"
    }
   ],
   "source": [
    "not True"
   ]
  },
  {
   "cell_type": "code",
   "execution_count": 71,
   "id": "68c75685",
   "metadata": {},
   "outputs": [],
   "source": [
    "def high_num(a, b, c):\n",
    "    if (a >= b) and (a >= c):\n",
    "        return a\n",
    "    elif (b > a) and (b > c):\n",
    "        return b\n",
    "    else:\n",
    "        return c"
   ]
  },
  {
   "cell_type": "code",
   "execution_count": 73,
   "id": "f21a31fd",
   "metadata": {
    "scrolled": true
   },
   "outputs": [
    {
     "data": {
      "text/plain": [
       "20"
      ]
     },
     "execution_count": 73,
     "metadata": {},
     "output_type": "execute_result"
    }
   ],
   "source": [
    "high_num(1, 20, 3)"
   ]
  },
  {
   "cell_type": "code",
   "execution_count": 75,
   "id": "4405feb9",
   "metadata": {},
   "outputs": [],
   "source": [
    "# Loops\n",
    "# For \n",
    "# While"
   ]
  },
  {
   "cell_type": "code",
   "execution_count": 77,
   "id": "882d1ccd",
   "metadata": {},
   "outputs": [],
   "source": [
    "# for -----> iterable and iterator"
   ]
  },
  {
   "cell_type": "code",
   "execution_count": 80,
   "id": "3aae3e08",
   "metadata": {},
   "outputs": [
    {
     "name": "stdout",
     "output_type": "stream",
     "text": [
      "0\n",
      "1\n",
      "2\n",
      "3\n",
      "4\n",
      "5\n",
      "6\n",
      "7\n",
      "8\n",
      "9\n"
     ]
    }
   ],
   "source": [
    "for i in range(10):\n",
    "    print(i)"
   ]
  },
  {
   "cell_type": "code",
   "execution_count": 87,
   "id": "b5b5a34e",
   "metadata": {
    "scrolled": true
   },
   "outputs": [
    {
     "name": "stdout",
     "output_type": "stream",
     "text": [
      "10 12 14 16 18 20 22 24 26 28 30 32 34 36 38 40 42 44 46 48 "
     ]
    }
   ],
   "source": [
    "for i in range(10, 50, 2):\n",
    "    print(i, end = ' ')"
   ]
  },
  {
   "cell_type": "code",
   "execution_count": 89,
   "id": "222164b3",
   "metadata": {},
   "outputs": [],
   "source": [
    "# HW ----> Check if a number is prime or not"
   ]
  },
  {
   "cell_type": "code",
   "execution_count": 90,
   "id": "555076ae",
   "metadata": {},
   "outputs": [
    {
     "name": "stdout",
     "output_type": "stream",
     "text": [
      "0 0\n",
      "0 1\n",
      "0 2\n",
      "0 3\n",
      "0 4\n",
      "1 0\n",
      "1 1\n",
      "1 2\n",
      "1 3\n",
      "1 4\n"
     ]
    }
   ],
   "source": [
    "for i in range(2):\n",
    "    for j in range(5):\n",
    "        print(i, j)"
   ]
  },
  {
   "cell_type": "code",
   "execution_count": null,
   "id": "7b0b7244",
   "metadata": {},
   "outputs": [],
   "source": []
  }
 ],
 "metadata": {
  "kernelspec": {
   "display_name": "Python 3 (ipykernel)",
   "language": "python",
   "name": "python3"
  },
  "language_info": {
   "codemirror_mode": {
    "name": "ipython",
    "version": 3
   },
   "file_extension": ".py",
   "mimetype": "text/x-python",
   "name": "python",
   "nbconvert_exporter": "python",
   "pygments_lexer": "ipython3",
   "version": "3.8.19"
  }
 },
 "nbformat": 4,
 "nbformat_minor": 5
}
